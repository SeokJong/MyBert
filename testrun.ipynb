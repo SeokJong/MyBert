{
 "cells": [
  {
   "cell_type": "code",
   "execution_count": 5,
   "metadata": {},
   "outputs": [],
   "source": [
    "import json\n",
    "import imp\n",
    "import os\n",
    "import numpy as np\n",
    "import tensorflow as tf\n",
    "\n",
    "from model import models, data"
   ]
  },
  {
   "cell_type": "code",
   "execution_count": 6,
   "metadata": {},
   "outputs": [
    {
     "data": {
      "text/plain": [
       "<module 'model.data' from 'C:\\\\Users\\\\seokjong\\\\dev\\\\MyBert\\\\model\\\\data.py'>"
      ]
     },
     "execution_count": 6,
     "metadata": {},
     "output_type": "execute_result"
    }
   ],
   "source": [
    "imp.reload(models)\n",
    "imp.reload(data)"
   ]
  },
  {
   "cell_type": "code",
   "execution_count": 7,
   "metadata": {},
   "outputs": [],
   "source": [
    "with open(\"base_model.json\") as fin:\n",
    "    options = json.load(fin)"
   ]
  },
  {
   "cell_type": "code",
   "execution_count": 8,
   "metadata": {},
   "outputs": [],
   "source": [
    "# https://baekyeongmin.github.io/dev/tpu-recipe-2/\n",
    "\n",
    "def select_strategy(config) -> tf.distribute.Strategy:\n",
    "    \"\"\"\n",
    "    Configuration을 바탕으로 Strategy를 설정합니다.\n",
    "    :param config: Training / Inference Config\n",
    "    :returns: tf.distribute.Strategy\n",
    "    \"\"\"\n",
    "    if config[\"device\"] == \"GPU\":\n",
    "        devices: List[tf.config.PhysicalDevice] = tf.config.list_physical_devices(\"GPU\")\n",
    "        if len(devices) == 0:\n",
    "            raise RuntimeError(\"GPU를 찾지 못했습니다. 혹시 CUDA_VISIBLE_DEVICE를 제대로 설정하셨나요?\")\n",
    "        if len(devices) > 1:\n",
    "            strategy = tf.distribute.MirroredStrategy()\n",
    "        else:\n",
    "            strategy = tf.distribute.OneDeviceStrategy(\"/gpu:0\")\n",
    "    elif config[\"device\"] == \"TPU\":\n",
    "        resolver = tf.distribute.cluster_resolver.TPUClusterResolver(tpu=os.environ[\"TPU_NAME\"])\n",
    "        tf.config.experimental_connect_to_cluster(resolver)\n",
    "        tf.tpu.experimental.initialize_tpu_system(resolver)\n",
    "        strategy = tf.distribute.TPUStrategy(resolver)\n",
    "    else:\n",
    "        raise ValueError(f\"{config.device}는 지원되지 않는 기기입니다.\")\n",
    "    return strategy"
   ]
  },
  {
   "cell_type": "code",
   "execution_count": 9,
   "metadata": {},
   "outputs": [
    {
     "name": "stdout",
     "output_type": "stream",
     "text": [
      "['.\\\\pretraining_data\\\\train_000.tfrecord', '.\\\\pretraining_data\\\\train_001.tfrecord', '.\\\\pretraining_data\\\\train_002.tfrecord', '.\\\\pretraining_data\\\\train_003.tfrecord', '.\\\\pretraining_data\\\\train_004.tfrecord', '.\\\\pretraining_data\\\\train_005.tfrecord', '.\\\\pretraining_data\\\\train_006.tfrecord', '.\\\\pretraining_data\\\\train_007.tfrecord', '.\\\\pretraining_data\\\\train_008.tfrecord', '.\\\\pretraining_data\\\\train_009.tfrecord', '.\\\\pretraining_data\\\\train_010.tfrecord', '.\\\\pretraining_data\\\\train_011.tfrecord', '.\\\\pretraining_data\\\\train_012.tfrecord', '.\\\\pretraining_data\\\\train_013.tfrecord', '.\\\\pretraining_data\\\\train_014.tfrecord', '.\\\\pretraining_data\\\\train_015.tfrecord', '.\\\\pretraining_data\\\\train_016.tfrecord', '.\\\\pretraining_data\\\\train_017.tfrecord', '.\\\\pretraining_data\\\\train_018.tfrecord', '.\\\\pretraining_data\\\\train_019.tfrecord', '.\\\\pretraining_data\\\\train_020.tfrecord', '.\\\\pretraining_data\\\\train_021.tfrecord', '.\\\\pretraining_data\\\\train_022.tfrecord', '.\\\\pretraining_data\\\\train_023.tfrecord', '.\\\\pretraining_data\\\\train_024.tfrecord', '.\\\\pretraining_data\\\\train_025.tfrecord', '.\\\\pretraining_data\\\\train_026.tfrecord', '.\\\\pretraining_data\\\\train_027.tfrecord', '.\\\\pretraining_data\\\\train_028.tfrecord', '.\\\\pretraining_data\\\\train_029.tfrecord', '.\\\\pretraining_data\\\\train_030.tfrecord', '.\\\\pretraining_data\\\\train_031.tfrecord', '.\\\\pretraining_data\\\\train_032.tfrecord', '.\\\\pretraining_data\\\\train_033.tfrecord', '.\\\\pretraining_data\\\\train_034.tfrecord', '.\\\\pretraining_data\\\\train_035.tfrecord', '.\\\\pretraining_data\\\\train_036.tfrecord', '.\\\\pretraining_data\\\\train_037.tfrecord', '.\\\\pretraining_data\\\\train_038.tfrecord', '.\\\\pretraining_data\\\\train_039.tfrecord', '.\\\\pretraining_data\\\\train_040.tfrecord', '.\\\\pretraining_data\\\\train_041.tfrecord', '.\\\\pretraining_data\\\\train_042.tfrecord', '.\\\\pretraining_data\\\\train_043.tfrecord', '.\\\\pretraining_data\\\\train_044.tfrecord', '.\\\\pretraining_data\\\\train_045.tfrecord', '.\\\\pretraining_data\\\\train_046.tfrecord', '.\\\\pretraining_data\\\\train_047.tfrecord']\n",
      "['.\\\\pretraining_data\\\\validate_000.tfrecord', '.\\\\pretraining_data\\\\validate_001.tfrecord', '.\\\\pretraining_data\\\\validate_002.tfrecord', '.\\\\pretraining_data\\\\validate_003.tfrecord', '.\\\\pretraining_data\\\\validate_004.tfrecord', '.\\\\pretraining_data\\\\validate_005.tfrecord']\n"
     ]
    }
   ],
   "source": [
    "config = {\n",
    "    \"device\": \"GPU\"\n",
    "}\n",
    "strategy = select_strategy(config)\n",
    "data_pattern = f\"./{options['PRETRAINING_DIR']}/train*\"\n",
    "input_files = []\n",
    "input_files.extend(tf.io.gfile.glob(data_pattern))\n",
    "print(input_files)\n",
    "train_dataset = data.build_interleaved_tfrecord_dataset(input_files, 128, 20, 32, 4)\n",
    "train_dist_dataset  = strategy.experimental_distribute_dataset(train_dataset)\n",
    "\n",
    "data_pattern = f\"./{options['PRETRAINING_DIR']}/val*\"\n",
    "input_files = []\n",
    "input_files.extend(tf.io.gfile.glob(data_pattern))\n",
    "print(input_files)\n",
    "val_dataset = data.build_interleaved_tfrecord_dataset(input_files, 128, 20, 32, 4)\n",
    "val_dist_dataset  = strategy.experimental_distribute_dataset(val_dataset)"
   ]
  },
  {
   "cell_type": "code",
   "execution_count": 10,
   "metadata": {},
   "outputs": [],
   "source": [
    "with strategy.scope():\n",
    "    model = models.BertPretrainModel(options, tf.keras.activations.gelu)\n",
    "    model.compile(tf.keras.optimizers.Adam(learning_rate=1e-4, ))"
   ]
  },
  {
   "cell_type": "code",
   "execution_count": 11,
   "metadata": {},
   "outputs": [],
   "source": [
    "checkpoint_dir = './training_checkpoints'\n",
    "checkpoint_prefix = os.path.join(checkpoint_dir, \"ckpt_epoch{epoch}_val{val_loss:0.3f}.h5\")"
   ]
  },
  {
   "cell_type": "code",
   "execution_count": 12,
   "metadata": {
    "scrolled": false
   },
   "outputs": [
    {
     "name": "stdout",
     "output_type": "stream",
     "text": [
      "Epoch 1/1000\n",
      "30000/30000 [==============================] - 354s 12ms/step - loss: 7.0774 - val_loss: 6.7290\n",
      "Epoch 2/1000\n",
      "30000/30000 [==============================] - 349s 12ms/step - loss: 6.7133 - val_loss: 6.7026\n",
      "Epoch 3/1000\n",
      "30000/30000 [==============================] - 350s 12ms/step - loss: 6.6916 - val_loss: 6.6896\n",
      "Epoch 4/1000\n",
      "30000/30000 [==============================] - 350s 12ms/step - loss: 6.6756 - val_loss: 6.6859\n",
      "Epoch 5/1000\n",
      "30000/30000 [==============================] - 350s 12ms/step - loss: 6.6720 - val_loss: 6.6846\n",
      "Epoch 6/1000\n",
      "30000/30000 [==============================] - 351s 12ms/step - loss: 6.6596 - val_loss: 6.6822\n",
      "Epoch 7/1000\n",
      "30000/30000 [==============================] - 345s 11ms/step - loss: 6.6546 - val_loss: 6.6816\n",
      "Epoch 8/1000\n",
      "30000/30000 [==============================] - 342s 11ms/step - loss: 6.6505 - val_loss: 6.6804\n",
      "Epoch 9/1000\n",
      "30000/30000 [==============================] - 342s 11ms/step - loss: 6.6437 - val_loss: 6.6775\n",
      "Epoch 10/1000\n",
      "30000/30000 [==============================] - 341s 11ms/step - loss: 6.6409 - val_loss: 6.6823\n",
      "Epoch 11/1000\n",
      "30000/30000 [==============================] - 341s 11ms/step - loss: 6.6360 - val_loss: 6.6839\n",
      "Epoch 12/1000\n",
      "30000/30000 [==============================] - 341s 11ms/step - loss: 6.6329 - val_loss: 6.6833\n",
      "Epoch 13/1000\n",
      "30000/30000 [==============================] - 342s 11ms/step - loss: 6.6356 - val_loss: 6.6863\n",
      "Epoch 14/1000\n",
      "30000/30000 [==============================] - 341s 11ms/step - loss: 6.6290 - val_loss: 6.6828\n",
      "Epoch 15/1000\n",
      "30000/30000 [==============================] - 341s 11ms/step - loss: 6.6294 - val_loss: 6.6815\n",
      "Epoch 16/1000\n",
      "30000/30000 [==============================] - 341s 11ms/step - loss: 6.6272 - val_loss: 6.6833\n",
      "Epoch 17/1000\n",
      "30000/30000 [==============================] - 341s 11ms/step - loss: 6.6213 - val_loss: 6.6843\n",
      "Epoch 18/1000\n",
      "30000/30000 [==============================] - 342s 11ms/step - loss: 6.6250 - val_loss: 6.6867\n",
      "Epoch 19/1000\n",
      "30000/30000 [==============================] - 341s 11ms/step - loss: 6.6175 - val_loss: 6.6878\n",
      "Epoch 20/1000\n",
      "30000/30000 [==============================] - 342s 11ms/step - loss: 6.6154 - val_loss: 6.6818\n",
      "Epoch 21/1000\n",
      "30000/30000 [==============================] - 342s 11ms/step - loss: 6.6200 - val_loss: 6.6845\n",
      "Epoch 22/1000\n",
      "30000/30000 [==============================] - 341s 11ms/step - loss: 6.6191 - val_loss: 6.6858\n",
      "Epoch 23/1000\n",
      "30000/30000 [==============================] - 342s 11ms/step - loss: 6.6144 - val_loss: 6.6826\n",
      "Epoch 24/1000\n",
      "30000/30000 [==============================] - 341s 11ms/step - loss: 6.6165 - val_loss: 6.6895\n",
      "Epoch 25/1000\n",
      "30000/30000 [==============================] - 341s 11ms/step - loss: 6.6107 - val_loss: 6.6855\n",
      "Epoch 26/1000\n",
      "30000/30000 [==============================] - 341s 11ms/step - loss: 6.6168 - val_loss: 6.6850\n",
      "Epoch 27/1000\n",
      "30000/30000 [==============================] - 341s 11ms/step - loss: 6.6164 - val_loss: 6.6875\n",
      "Epoch 28/1000\n",
      "30000/30000 [==============================] - 341s 11ms/step - loss: 6.6117 - val_loss: 6.6888\n",
      "Epoch 29/1000\n",
      "30000/30000 [==============================] - 341s 11ms/step - loss: 6.6144 - val_loss: 6.6838\n",
      "Epoch 30/1000\n",
      "30000/30000 [==============================] - 341s 11ms/step - loss: 6.6134 - val_loss: 6.6863\n",
      "Epoch 31/1000\n",
      "30000/30000 [==============================] - 341s 11ms/step - loss: 6.6157 - val_loss: 6.6888\n",
      "Epoch 32/1000\n",
      "30000/30000 [==============================] - 342s 11ms/step - loss: 6.6126 - val_loss: 6.6891\n",
      "Epoch 33/1000\n",
      "30000/30000 [==============================] - 341s 11ms/step - loss: 6.6118 - val_loss: 6.6865\n",
      "Epoch 34/1000\n",
      "30000/30000 [==============================] - 341s 11ms/step - loss: 6.6092 - val_loss: 6.6883\n",
      "Epoch 35/1000\n",
      "30000/30000 [==============================] - 341s 11ms/step - loss: 6.6145 - val_loss: 6.6920\n",
      "Epoch 36/1000\n",
      "30000/30000 [==============================] - 341s 11ms/step - loss: 6.6106 - val_loss: 6.6916\n",
      "Epoch 37/1000\n",
      "30000/30000 [==============================] - 342s 11ms/step - loss: 6.6082 - val_loss: 6.6935\n",
      "Epoch 38/1000\n",
      "30000/30000 [==============================] - 342s 11ms/step - loss: 6.6081 - val_loss: 6.6899\n",
      "Epoch 39/1000\n",
      "30000/30000 [==============================] - 343s 11ms/step - loss: 6.6088 - val_loss: 6.6903\n",
      "Epoch 40/1000\n",
      "30000/30000 [==============================] - 342s 11ms/step - loss: 6.6091 - val_loss: 6.6946\n",
      "Epoch 41/1000\n",
      "30000/30000 [==============================] - 342s 11ms/step - loss: 6.6035 - val_loss: 6.6929\n",
      "Epoch 42/1000\n",
      "30000/30000 [==============================] - 342s 11ms/step - loss: 6.6092 - val_loss: 6.6962\n",
      "Epoch 43/1000\n",
      "30000/30000 [==============================] - 342s 11ms/step - loss: 6.6093 - val_loss: 6.6926\n",
      "Epoch 44/1000\n",
      "30000/30000 [==============================] - 342s 11ms/step - loss: 6.6104 - val_loss: 6.6964\n",
      "Epoch 45/1000\n",
      "30000/30000 [==============================] - 342s 11ms/step - loss: 6.6029 - val_loss: 6.6936\n",
      "Epoch 46/1000\n",
      "30000/30000 [==============================] - 342s 11ms/step - loss: 6.6046 - val_loss: 6.6909\n",
      "Epoch 47/1000\n",
      "30000/30000 [==============================] - 342s 11ms/step - loss: 6.6104 - val_loss: 6.6957\n",
      "Epoch 48/1000\n",
      "30000/30000 [==============================] - 343s 11ms/step - loss: 6.6057 - val_loss: 6.6944\n",
      "Epoch 49/1000\n",
      "30000/30000 [==============================] - 342s 11ms/step - loss: 6.6069 - val_loss: 6.6982\n",
      "Epoch 50/1000\n",
      "30000/30000 [==============================] - 342s 11ms/step - loss: 6.6027 - val_loss: 6.6987\n",
      "Epoch 51/1000\n",
      "30000/30000 [==============================] - 342s 11ms/step - loss: 6.6035 - val_loss: 6.6969\n",
      "Epoch 52/1000\n",
      "30000/30000 [==============================] - 342s 11ms/step - loss: 6.6063 - val_loss: 6.6987\n",
      "Epoch 53/1000\n",
      "30000/30000 [==============================] - 347s 12ms/step - loss: 6.6047 - val_loss: 6.6964\n",
      "Epoch 54/1000\n",
      "30000/30000 [==============================] - 357s 12ms/step - loss: 6.6020 - val_loss: 6.6975\n",
      "Epoch 55/1000\n",
      "30000/30000 [==============================] - 355s 12ms/step - loss: 6.6022 - val_loss: 6.6980\n",
      "Epoch 56/1000\n",
      "30000/30000 [==============================] - 355s 12ms/step - loss: 6.6026 - val_loss: 6.6991\n",
      "Epoch 57/1000\n",
      "30000/30000 [==============================] - 355s 12ms/step - loss: 6.6024 - val_loss: 6.7001\n",
      "Epoch 58/1000\n",
      "30000/30000 [==============================] - 355s 12ms/step - loss: 6.6037 - val_loss: 6.7011\n",
      "Epoch 59/1000\n",
      "30000/30000 [==============================] - 355s 12ms/step - loss: 6.6004 - val_loss: 6.7032\n",
      "Epoch 60/1000\n",
      "30000/30000 [==============================] - 356s 12ms/step - loss: 6.6009 - val_loss: 6.7030\n",
      "Epoch 61/1000\n",
      " 6486/30000 [=====>........................] - ETA: 4:26 - loss: 6.6078"
     ]
    },
    {
     "ename": "KeyboardInterrupt",
     "evalue": "",
     "output_type": "error",
     "traceback": [
      "\u001b[1;31m---------------------------------------------------------------------------\u001b[0m",
      "\u001b[1;31mKeyboardInterrupt\u001b[0m                         Traceback (most recent call last)",
      "\u001b[1;32m<ipython-input-12-70b9d4b32356>\u001b[0m in \u001b[0;36m<module>\u001b[1;34m\u001b[0m\n\u001b[0;32m      8\u001b[0m ]\n\u001b[0;32m      9\u001b[0m \u001b[1;33m\u001b[0m\u001b[0m\n\u001b[1;32m---> 10\u001b[1;33m model.fit(\n\u001b[0m\u001b[0;32m     11\u001b[0m     \u001b[0mtrain_dist_dataset\u001b[0m\u001b[1;33m,\u001b[0m\u001b[1;33m\u001b[0m\u001b[1;33m\u001b[0m\u001b[0m\n\u001b[0;32m     12\u001b[0m     \u001b[0mepochs\u001b[0m\u001b[1;33m=\u001b[0m\u001b[1;36m1000\u001b[0m\u001b[1;33m,\u001b[0m\u001b[1;33m\u001b[0m\u001b[1;33m\u001b[0m\u001b[0m\n",
      "\u001b[1;32m~\\anaconda3\\envs\\tf_env\\lib\\site-packages\\tensorflow\\python\\keras\\engine\\training.py\u001b[0m in \u001b[0;36mfit\u001b[1;34m(self, x, y, batch_size, epochs, verbose, callbacks, validation_split, validation_data, shuffle, class_weight, sample_weight, initial_epoch, steps_per_epoch, validation_steps, validation_batch_size, validation_freq, max_queue_size, workers, use_multiprocessing)\u001b[0m\n\u001b[0;32m   1103\u001b[0m               \u001b[0mlogs\u001b[0m \u001b[1;33m=\u001b[0m \u001b[0mtmp_logs\u001b[0m  \u001b[1;31m# No error, now safe to assign to logs.\u001b[0m\u001b[1;33m\u001b[0m\u001b[1;33m\u001b[0m\u001b[0m\n\u001b[0;32m   1104\u001b[0m               \u001b[0mend_step\u001b[0m \u001b[1;33m=\u001b[0m \u001b[0mstep\u001b[0m \u001b[1;33m+\u001b[0m \u001b[0mdata_handler\u001b[0m\u001b[1;33m.\u001b[0m\u001b[0mstep_increment\u001b[0m\u001b[1;33m\u001b[0m\u001b[1;33m\u001b[0m\u001b[0m\n\u001b[1;32m-> 1105\u001b[1;33m               \u001b[0mcallbacks\u001b[0m\u001b[1;33m.\u001b[0m\u001b[0mon_train_batch_end\u001b[0m\u001b[1;33m(\u001b[0m\u001b[0mend_step\u001b[0m\u001b[1;33m,\u001b[0m \u001b[0mlogs\u001b[0m\u001b[1;33m)\u001b[0m\u001b[1;33m\u001b[0m\u001b[1;33m\u001b[0m\u001b[0m\n\u001b[0m\u001b[0;32m   1106\u001b[0m               \u001b[1;32mif\u001b[0m \u001b[0mself\u001b[0m\u001b[1;33m.\u001b[0m\u001b[0mstop_training\u001b[0m\u001b[1;33m:\u001b[0m\u001b[1;33m\u001b[0m\u001b[1;33m\u001b[0m\u001b[0m\n\u001b[0;32m   1107\u001b[0m                 \u001b[1;32mbreak\u001b[0m\u001b[1;33m\u001b[0m\u001b[1;33m\u001b[0m\u001b[0m\n",
      "\u001b[1;32m~\\anaconda3\\envs\\tf_env\\lib\\site-packages\\tensorflow\\python\\keras\\callbacks.py\u001b[0m in \u001b[0;36mon_train_batch_end\u001b[1;34m(self, batch, logs)\u001b[0m\n\u001b[0;32m    452\u001b[0m     \"\"\"\n\u001b[0;32m    453\u001b[0m     \u001b[1;32mif\u001b[0m \u001b[0mself\u001b[0m\u001b[1;33m.\u001b[0m\u001b[0m_should_call_train_batch_hooks\u001b[0m\u001b[1;33m:\u001b[0m\u001b[1;33m\u001b[0m\u001b[1;33m\u001b[0m\u001b[0m\n\u001b[1;32m--> 454\u001b[1;33m       \u001b[0mself\u001b[0m\u001b[1;33m.\u001b[0m\u001b[0m_call_batch_hook\u001b[0m\u001b[1;33m(\u001b[0m\u001b[0mModeKeys\u001b[0m\u001b[1;33m.\u001b[0m\u001b[0mTRAIN\u001b[0m\u001b[1;33m,\u001b[0m \u001b[1;34m'end'\u001b[0m\u001b[1;33m,\u001b[0m \u001b[0mbatch\u001b[0m\u001b[1;33m,\u001b[0m \u001b[0mlogs\u001b[0m\u001b[1;33m=\u001b[0m\u001b[0mlogs\u001b[0m\u001b[1;33m)\u001b[0m\u001b[1;33m\u001b[0m\u001b[1;33m\u001b[0m\u001b[0m\n\u001b[0m\u001b[0;32m    455\u001b[0m \u001b[1;33m\u001b[0m\u001b[0m\n\u001b[0;32m    456\u001b[0m   \u001b[1;32mdef\u001b[0m \u001b[0mon_test_batch_begin\u001b[0m\u001b[1;33m(\u001b[0m\u001b[0mself\u001b[0m\u001b[1;33m,\u001b[0m \u001b[0mbatch\u001b[0m\u001b[1;33m,\u001b[0m \u001b[0mlogs\u001b[0m\u001b[1;33m=\u001b[0m\u001b[1;32mNone\u001b[0m\u001b[1;33m)\u001b[0m\u001b[1;33m:\u001b[0m\u001b[1;33m\u001b[0m\u001b[1;33m\u001b[0m\u001b[0m\n",
      "\u001b[1;32m~\\anaconda3\\envs\\tf_env\\lib\\site-packages\\tensorflow\\python\\keras\\callbacks.py\u001b[0m in \u001b[0;36m_call_batch_hook\u001b[1;34m(self, mode, hook, batch, logs)\u001b[0m\n\u001b[0;32m    294\u001b[0m       \u001b[0mself\u001b[0m\u001b[1;33m.\u001b[0m\u001b[0m_call_batch_begin_hook\u001b[0m\u001b[1;33m(\u001b[0m\u001b[0mmode\u001b[0m\u001b[1;33m,\u001b[0m \u001b[0mbatch\u001b[0m\u001b[1;33m,\u001b[0m \u001b[0mlogs\u001b[0m\u001b[1;33m)\u001b[0m\u001b[1;33m\u001b[0m\u001b[1;33m\u001b[0m\u001b[0m\n\u001b[0;32m    295\u001b[0m     \u001b[1;32melif\u001b[0m \u001b[0mhook\u001b[0m \u001b[1;33m==\u001b[0m \u001b[1;34m'end'\u001b[0m\u001b[1;33m:\u001b[0m\u001b[1;33m\u001b[0m\u001b[1;33m\u001b[0m\u001b[0m\n\u001b[1;32m--> 296\u001b[1;33m       \u001b[0mself\u001b[0m\u001b[1;33m.\u001b[0m\u001b[0m_call_batch_end_hook\u001b[0m\u001b[1;33m(\u001b[0m\u001b[0mmode\u001b[0m\u001b[1;33m,\u001b[0m \u001b[0mbatch\u001b[0m\u001b[1;33m,\u001b[0m \u001b[0mlogs\u001b[0m\u001b[1;33m)\u001b[0m\u001b[1;33m\u001b[0m\u001b[1;33m\u001b[0m\u001b[0m\n\u001b[0m\u001b[0;32m    297\u001b[0m     \u001b[1;32melse\u001b[0m\u001b[1;33m:\u001b[0m\u001b[1;33m\u001b[0m\u001b[1;33m\u001b[0m\u001b[0m\n\u001b[0;32m    298\u001b[0m       \u001b[1;32mraise\u001b[0m \u001b[0mValueError\u001b[0m\u001b[1;33m(\u001b[0m\u001b[1;34m'Unrecognized hook: {}'\u001b[0m\u001b[1;33m.\u001b[0m\u001b[0mformat\u001b[0m\u001b[1;33m(\u001b[0m\u001b[0mhook\u001b[0m\u001b[1;33m)\u001b[0m\u001b[1;33m)\u001b[0m\u001b[1;33m\u001b[0m\u001b[1;33m\u001b[0m\u001b[0m\n",
      "\u001b[1;32m~\\anaconda3\\envs\\tf_env\\lib\\site-packages\\tensorflow\\python\\keras\\callbacks.py\u001b[0m in \u001b[0;36m_call_batch_end_hook\u001b[1;34m(self, mode, batch, logs)\u001b[0m\n\u001b[0;32m    314\u001b[0m       \u001b[0mself\u001b[0m\u001b[1;33m.\u001b[0m\u001b[0m_batch_times\u001b[0m\u001b[1;33m.\u001b[0m\u001b[0mappend\u001b[0m\u001b[1;33m(\u001b[0m\u001b[0mbatch_time\u001b[0m\u001b[1;33m)\u001b[0m\u001b[1;33m\u001b[0m\u001b[1;33m\u001b[0m\u001b[0m\n\u001b[0;32m    315\u001b[0m \u001b[1;33m\u001b[0m\u001b[0m\n\u001b[1;32m--> 316\u001b[1;33m     \u001b[0mself\u001b[0m\u001b[1;33m.\u001b[0m\u001b[0m_call_batch_hook_helper\u001b[0m\u001b[1;33m(\u001b[0m\u001b[0mhook_name\u001b[0m\u001b[1;33m,\u001b[0m \u001b[0mbatch\u001b[0m\u001b[1;33m,\u001b[0m \u001b[0mlogs\u001b[0m\u001b[1;33m)\u001b[0m\u001b[1;33m\u001b[0m\u001b[1;33m\u001b[0m\u001b[0m\n\u001b[0m\u001b[0;32m    317\u001b[0m \u001b[1;33m\u001b[0m\u001b[0m\n\u001b[0;32m    318\u001b[0m     \u001b[1;32mif\u001b[0m \u001b[0mlen\u001b[0m\u001b[1;33m(\u001b[0m\u001b[0mself\u001b[0m\u001b[1;33m.\u001b[0m\u001b[0m_batch_times\u001b[0m\u001b[1;33m)\u001b[0m \u001b[1;33m>=\u001b[0m \u001b[0mself\u001b[0m\u001b[1;33m.\u001b[0m\u001b[0m_num_batches_for_timing_check\u001b[0m\u001b[1;33m:\u001b[0m\u001b[1;33m\u001b[0m\u001b[1;33m\u001b[0m\u001b[0m\n",
      "\u001b[1;32m~\\anaconda3\\envs\\tf_env\\lib\\site-packages\\tensorflow\\python\\keras\\callbacks.py\u001b[0m in \u001b[0;36m_call_batch_hook_helper\u001b[1;34m(self, hook_name, batch, logs)\u001b[0m\n\u001b[0;32m    354\u001b[0m       \u001b[0mhook\u001b[0m \u001b[1;33m=\u001b[0m \u001b[0mgetattr\u001b[0m\u001b[1;33m(\u001b[0m\u001b[0mcallback\u001b[0m\u001b[1;33m,\u001b[0m \u001b[0mhook_name\u001b[0m\u001b[1;33m)\u001b[0m\u001b[1;33m\u001b[0m\u001b[1;33m\u001b[0m\u001b[0m\n\u001b[0;32m    355\u001b[0m       \u001b[1;32mif\u001b[0m \u001b[0mgetattr\u001b[0m\u001b[1;33m(\u001b[0m\u001b[0mcallback\u001b[0m\u001b[1;33m,\u001b[0m \u001b[1;34m'_supports_tf_logs'\u001b[0m\u001b[1;33m,\u001b[0m \u001b[1;32mFalse\u001b[0m\u001b[1;33m)\u001b[0m\u001b[1;33m:\u001b[0m\u001b[1;33m\u001b[0m\u001b[1;33m\u001b[0m\u001b[0m\n\u001b[1;32m--> 356\u001b[1;33m         \u001b[0mhook\u001b[0m\u001b[1;33m(\u001b[0m\u001b[0mbatch\u001b[0m\u001b[1;33m,\u001b[0m \u001b[0mlogs\u001b[0m\u001b[1;33m)\u001b[0m\u001b[1;33m\u001b[0m\u001b[1;33m\u001b[0m\u001b[0m\n\u001b[0m\u001b[0;32m    357\u001b[0m       \u001b[1;32melse\u001b[0m\u001b[1;33m:\u001b[0m\u001b[1;33m\u001b[0m\u001b[1;33m\u001b[0m\u001b[0m\n\u001b[0;32m    358\u001b[0m         \u001b[1;32mif\u001b[0m \u001b[0mnumpy_logs\u001b[0m \u001b[1;32mis\u001b[0m \u001b[1;32mNone\u001b[0m\u001b[1;33m:\u001b[0m  \u001b[1;31m# Only convert once.\u001b[0m\u001b[1;33m\u001b[0m\u001b[1;33m\u001b[0m\u001b[0m\n",
      "\u001b[1;32m~\\anaconda3\\envs\\tf_env\\lib\\site-packages\\tensorflow\\python\\keras\\callbacks.py\u001b[0m in \u001b[0;36mon_train_batch_end\u001b[1;34m(self, batch, logs)\u001b[0m\n\u001b[0;32m   1018\u001b[0m \u001b[1;33m\u001b[0m\u001b[0m\n\u001b[0;32m   1019\u001b[0m   \u001b[1;32mdef\u001b[0m \u001b[0mon_train_batch_end\u001b[0m\u001b[1;33m(\u001b[0m\u001b[0mself\u001b[0m\u001b[1;33m,\u001b[0m \u001b[0mbatch\u001b[0m\u001b[1;33m,\u001b[0m \u001b[0mlogs\u001b[0m\u001b[1;33m=\u001b[0m\u001b[1;32mNone\u001b[0m\u001b[1;33m)\u001b[0m\u001b[1;33m:\u001b[0m\u001b[1;33m\u001b[0m\u001b[1;33m\u001b[0m\u001b[0m\n\u001b[1;32m-> 1020\u001b[1;33m     \u001b[0mself\u001b[0m\u001b[1;33m.\u001b[0m\u001b[0m_batch_update_progbar\u001b[0m\u001b[1;33m(\u001b[0m\u001b[0mbatch\u001b[0m\u001b[1;33m,\u001b[0m \u001b[0mlogs\u001b[0m\u001b[1;33m)\u001b[0m\u001b[1;33m\u001b[0m\u001b[1;33m\u001b[0m\u001b[0m\n\u001b[0m\u001b[0;32m   1021\u001b[0m \u001b[1;33m\u001b[0m\u001b[0m\n\u001b[0;32m   1022\u001b[0m   \u001b[1;32mdef\u001b[0m \u001b[0mon_test_batch_end\u001b[0m\u001b[1;33m(\u001b[0m\u001b[0mself\u001b[0m\u001b[1;33m,\u001b[0m \u001b[0mbatch\u001b[0m\u001b[1;33m,\u001b[0m \u001b[0mlogs\u001b[0m\u001b[1;33m=\u001b[0m\u001b[1;32mNone\u001b[0m\u001b[1;33m)\u001b[0m\u001b[1;33m:\u001b[0m\u001b[1;33m\u001b[0m\u001b[1;33m\u001b[0m\u001b[0m\n",
      "\u001b[1;32m~\\anaconda3\\envs\\tf_env\\lib\\site-packages\\tensorflow\\python\\keras\\callbacks.py\u001b[0m in \u001b[0;36m_batch_update_progbar\u001b[1;34m(self, batch, logs)\u001b[0m\n\u001b[0;32m   1082\u001b[0m     \u001b[1;32mif\u001b[0m \u001b[0mself\u001b[0m\u001b[1;33m.\u001b[0m\u001b[0mverbose\u001b[0m \u001b[1;33m==\u001b[0m \u001b[1;36m1\u001b[0m\u001b[1;33m:\u001b[0m\u001b[1;33m\u001b[0m\u001b[1;33m\u001b[0m\u001b[0m\n\u001b[0;32m   1083\u001b[0m       \u001b[1;31m# Only block async when verbose = 1.\u001b[0m\u001b[1;33m\u001b[0m\u001b[1;33m\u001b[0m\u001b[1;33m\u001b[0m\u001b[0m\n\u001b[1;32m-> 1084\u001b[1;33m       \u001b[0mlogs\u001b[0m \u001b[1;33m=\u001b[0m \u001b[0mtf_utils\u001b[0m\u001b[1;33m.\u001b[0m\u001b[0mto_numpy_or_python_type\u001b[0m\u001b[1;33m(\u001b[0m\u001b[0mlogs\u001b[0m\u001b[1;33m)\u001b[0m\u001b[1;33m\u001b[0m\u001b[1;33m\u001b[0m\u001b[0m\n\u001b[0m\u001b[0;32m   1085\u001b[0m       \u001b[0mself\u001b[0m\u001b[1;33m.\u001b[0m\u001b[0mprogbar\u001b[0m\u001b[1;33m.\u001b[0m\u001b[0mupdate\u001b[0m\u001b[1;33m(\u001b[0m\u001b[0mself\u001b[0m\u001b[1;33m.\u001b[0m\u001b[0mseen\u001b[0m\u001b[1;33m,\u001b[0m \u001b[0mlist\u001b[0m\u001b[1;33m(\u001b[0m\u001b[0mlogs\u001b[0m\u001b[1;33m.\u001b[0m\u001b[0mitems\u001b[0m\u001b[1;33m(\u001b[0m\u001b[1;33m)\u001b[0m\u001b[1;33m)\u001b[0m\u001b[1;33m,\u001b[0m \u001b[0mfinalize\u001b[0m\u001b[1;33m=\u001b[0m\u001b[1;32mFalse\u001b[0m\u001b[1;33m)\u001b[0m\u001b[1;33m\u001b[0m\u001b[1;33m\u001b[0m\u001b[0m\n\u001b[0;32m   1086\u001b[0m \u001b[1;33m\u001b[0m\u001b[0m\n",
      "\u001b[1;32m~\\anaconda3\\envs\\tf_env\\lib\\site-packages\\tensorflow\\python\\keras\\utils\\tf_utils.py\u001b[0m in \u001b[0;36mto_numpy_or_python_type\u001b[1;34m(tensors)\u001b[0m\n\u001b[0;32m    512\u001b[0m     \u001b[1;32mreturn\u001b[0m \u001b[0mt\u001b[0m  \u001b[1;31m# Don't turn ragged or sparse tensors to NumPy.\u001b[0m\u001b[1;33m\u001b[0m\u001b[1;33m\u001b[0m\u001b[0m\n\u001b[0;32m    513\u001b[0m \u001b[1;33m\u001b[0m\u001b[0m\n\u001b[1;32m--> 514\u001b[1;33m   \u001b[1;32mreturn\u001b[0m \u001b[0mnest\u001b[0m\u001b[1;33m.\u001b[0m\u001b[0mmap_structure\u001b[0m\u001b[1;33m(\u001b[0m\u001b[0m_to_single_numpy_or_python_type\u001b[0m\u001b[1;33m,\u001b[0m \u001b[0mtensors\u001b[0m\u001b[1;33m)\u001b[0m\u001b[1;33m\u001b[0m\u001b[1;33m\u001b[0m\u001b[0m\n\u001b[0m\u001b[0;32m    515\u001b[0m \u001b[1;33m\u001b[0m\u001b[0m\n\u001b[0;32m    516\u001b[0m \u001b[1;33m\u001b[0m\u001b[0m\n",
      "\u001b[1;32m~\\anaconda3\\envs\\tf_env\\lib\\site-packages\\tensorflow\\python\\util\\nest.py\u001b[0m in \u001b[0;36mmap_structure\u001b[1;34m(func, *structure, **kwargs)\u001b[0m\n\u001b[0;32m    657\u001b[0m \u001b[1;33m\u001b[0m\u001b[0m\n\u001b[0;32m    658\u001b[0m   return pack_sequence_as(\n\u001b[1;32m--> 659\u001b[1;33m       \u001b[0mstructure\u001b[0m\u001b[1;33m[\u001b[0m\u001b[1;36m0\u001b[0m\u001b[1;33m]\u001b[0m\u001b[1;33m,\u001b[0m \u001b[1;33m[\u001b[0m\u001b[0mfunc\u001b[0m\u001b[1;33m(\u001b[0m\u001b[1;33m*\u001b[0m\u001b[0mx\u001b[0m\u001b[1;33m)\u001b[0m \u001b[1;32mfor\u001b[0m \u001b[0mx\u001b[0m \u001b[1;32min\u001b[0m \u001b[0mentries\u001b[0m\u001b[1;33m]\u001b[0m\u001b[1;33m,\u001b[0m\u001b[1;33m\u001b[0m\u001b[1;33m\u001b[0m\u001b[0m\n\u001b[0m\u001b[0;32m    660\u001b[0m       expand_composites=expand_composites)\n\u001b[0;32m    661\u001b[0m \u001b[1;33m\u001b[0m\u001b[0m\n",
      "\u001b[1;32m~\\anaconda3\\envs\\tf_env\\lib\\site-packages\\tensorflow\\python\\util\\nest.py\u001b[0m in \u001b[0;36m<listcomp>\u001b[1;34m(.0)\u001b[0m\n\u001b[0;32m    657\u001b[0m \u001b[1;33m\u001b[0m\u001b[0m\n\u001b[0;32m    658\u001b[0m   return pack_sequence_as(\n\u001b[1;32m--> 659\u001b[1;33m       \u001b[0mstructure\u001b[0m\u001b[1;33m[\u001b[0m\u001b[1;36m0\u001b[0m\u001b[1;33m]\u001b[0m\u001b[1;33m,\u001b[0m \u001b[1;33m[\u001b[0m\u001b[0mfunc\u001b[0m\u001b[1;33m(\u001b[0m\u001b[1;33m*\u001b[0m\u001b[0mx\u001b[0m\u001b[1;33m)\u001b[0m \u001b[1;32mfor\u001b[0m \u001b[0mx\u001b[0m \u001b[1;32min\u001b[0m \u001b[0mentries\u001b[0m\u001b[1;33m]\u001b[0m\u001b[1;33m,\u001b[0m\u001b[1;33m\u001b[0m\u001b[1;33m\u001b[0m\u001b[0m\n\u001b[0m\u001b[0;32m    660\u001b[0m       expand_composites=expand_composites)\n\u001b[0;32m    661\u001b[0m \u001b[1;33m\u001b[0m\u001b[0m\n",
      "\u001b[1;32m~\\anaconda3\\envs\\tf_env\\lib\\site-packages\\tensorflow\\python\\keras\\utils\\tf_utils.py\u001b[0m in \u001b[0;36m_to_single_numpy_or_python_type\u001b[1;34m(t)\u001b[0m\n\u001b[0;32m    508\u001b[0m   \u001b[1;32mdef\u001b[0m \u001b[0m_to_single_numpy_or_python_type\u001b[0m\u001b[1;33m(\u001b[0m\u001b[0mt\u001b[0m\u001b[1;33m)\u001b[0m\u001b[1;33m:\u001b[0m\u001b[1;33m\u001b[0m\u001b[1;33m\u001b[0m\u001b[0m\n\u001b[0;32m    509\u001b[0m     \u001b[1;32mif\u001b[0m \u001b[0misinstance\u001b[0m\u001b[1;33m(\u001b[0m\u001b[0mt\u001b[0m\u001b[1;33m,\u001b[0m \u001b[0mops\u001b[0m\u001b[1;33m.\u001b[0m\u001b[0mTensor\u001b[0m\u001b[1;33m)\u001b[0m\u001b[1;33m:\u001b[0m\u001b[1;33m\u001b[0m\u001b[1;33m\u001b[0m\u001b[0m\n\u001b[1;32m--> 510\u001b[1;33m       \u001b[0mx\u001b[0m \u001b[1;33m=\u001b[0m \u001b[0mt\u001b[0m\u001b[1;33m.\u001b[0m\u001b[0mnumpy\u001b[0m\u001b[1;33m(\u001b[0m\u001b[1;33m)\u001b[0m\u001b[1;33m\u001b[0m\u001b[1;33m\u001b[0m\u001b[0m\n\u001b[0m\u001b[0;32m    511\u001b[0m       \u001b[1;32mreturn\u001b[0m \u001b[0mx\u001b[0m\u001b[1;33m.\u001b[0m\u001b[0mitem\u001b[0m\u001b[1;33m(\u001b[0m\u001b[1;33m)\u001b[0m \u001b[1;32mif\u001b[0m \u001b[0mnp\u001b[0m\u001b[1;33m.\u001b[0m\u001b[0mndim\u001b[0m\u001b[1;33m(\u001b[0m\u001b[0mx\u001b[0m\u001b[1;33m)\u001b[0m \u001b[1;33m==\u001b[0m \u001b[1;36m0\u001b[0m \u001b[1;32melse\u001b[0m \u001b[0mx\u001b[0m\u001b[1;33m\u001b[0m\u001b[1;33m\u001b[0m\u001b[0m\n\u001b[0;32m    512\u001b[0m     \u001b[1;32mreturn\u001b[0m \u001b[0mt\u001b[0m  \u001b[1;31m# Don't turn ragged or sparse tensors to NumPy.\u001b[0m\u001b[1;33m\u001b[0m\u001b[1;33m\u001b[0m\u001b[0m\n",
      "\u001b[1;32m~\\anaconda3\\envs\\tf_env\\lib\\site-packages\\tensorflow\\python\\framework\\ops.py\u001b[0m in \u001b[0;36mnumpy\u001b[1;34m(self)\u001b[0m\n\u001b[0;32m   1069\u001b[0m     \"\"\"\n\u001b[0;32m   1070\u001b[0m     \u001b[1;31m# TODO(slebedev): Consider avoiding a copy for non-CPU or remote tensors.\u001b[0m\u001b[1;33m\u001b[0m\u001b[1;33m\u001b[0m\u001b[1;33m\u001b[0m\u001b[0m\n\u001b[1;32m-> 1071\u001b[1;33m     \u001b[0mmaybe_arr\u001b[0m \u001b[1;33m=\u001b[0m \u001b[0mself\u001b[0m\u001b[1;33m.\u001b[0m\u001b[0m_numpy\u001b[0m\u001b[1;33m(\u001b[0m\u001b[1;33m)\u001b[0m  \u001b[1;31m# pylint: disable=protected-access\u001b[0m\u001b[1;33m\u001b[0m\u001b[1;33m\u001b[0m\u001b[0m\n\u001b[0m\u001b[0;32m   1072\u001b[0m     \u001b[1;32mreturn\u001b[0m \u001b[0mmaybe_arr\u001b[0m\u001b[1;33m.\u001b[0m\u001b[0mcopy\u001b[0m\u001b[1;33m(\u001b[0m\u001b[1;33m)\u001b[0m \u001b[1;32mif\u001b[0m \u001b[0misinstance\u001b[0m\u001b[1;33m(\u001b[0m\u001b[0mmaybe_arr\u001b[0m\u001b[1;33m,\u001b[0m \u001b[0mnp\u001b[0m\u001b[1;33m.\u001b[0m\u001b[0mndarray\u001b[0m\u001b[1;33m)\u001b[0m \u001b[1;32melse\u001b[0m \u001b[0mmaybe_arr\u001b[0m\u001b[1;33m\u001b[0m\u001b[1;33m\u001b[0m\u001b[0m\n\u001b[0;32m   1073\u001b[0m \u001b[1;33m\u001b[0m\u001b[0m\n",
      "\u001b[1;32m~\\anaconda3\\envs\\tf_env\\lib\\site-packages\\tensorflow\\python\\framework\\ops.py\u001b[0m in \u001b[0;36m_numpy\u001b[1;34m(self)\u001b[0m\n\u001b[0;32m   1035\u001b[0m   \u001b[1;32mdef\u001b[0m \u001b[0m_numpy\u001b[0m\u001b[1;33m(\u001b[0m\u001b[0mself\u001b[0m\u001b[1;33m)\u001b[0m\u001b[1;33m:\u001b[0m\u001b[1;33m\u001b[0m\u001b[1;33m\u001b[0m\u001b[0m\n\u001b[0;32m   1036\u001b[0m     \u001b[1;32mtry\u001b[0m\u001b[1;33m:\u001b[0m\u001b[1;33m\u001b[0m\u001b[1;33m\u001b[0m\u001b[0m\n\u001b[1;32m-> 1037\u001b[1;33m       \u001b[1;32mreturn\u001b[0m \u001b[0mself\u001b[0m\u001b[1;33m.\u001b[0m\u001b[0m_numpy_internal\u001b[0m\u001b[1;33m(\u001b[0m\u001b[1;33m)\u001b[0m\u001b[1;33m\u001b[0m\u001b[1;33m\u001b[0m\u001b[0m\n\u001b[0m\u001b[0;32m   1038\u001b[0m     \u001b[1;32mexcept\u001b[0m \u001b[0mcore\u001b[0m\u001b[1;33m.\u001b[0m\u001b[0m_NotOkStatusException\u001b[0m \u001b[1;32mas\u001b[0m \u001b[0me\u001b[0m\u001b[1;33m:\u001b[0m  \u001b[1;31m# pylint: disable=protected-access\u001b[0m\u001b[1;33m\u001b[0m\u001b[1;33m\u001b[0m\u001b[0m\n\u001b[0;32m   1039\u001b[0m       \u001b[0msix\u001b[0m\u001b[1;33m.\u001b[0m\u001b[0mraise_from\u001b[0m\u001b[1;33m(\u001b[0m\u001b[0mcore\u001b[0m\u001b[1;33m.\u001b[0m\u001b[0m_status_to_exception\u001b[0m\u001b[1;33m(\u001b[0m\u001b[0me\u001b[0m\u001b[1;33m.\u001b[0m\u001b[0mcode\u001b[0m\u001b[1;33m,\u001b[0m \u001b[0me\u001b[0m\u001b[1;33m.\u001b[0m\u001b[0mmessage\u001b[0m\u001b[1;33m)\u001b[0m\u001b[1;33m,\u001b[0m \u001b[1;32mNone\u001b[0m\u001b[1;33m)\u001b[0m  \u001b[1;31m# pylint: disable=protected-access\u001b[0m\u001b[1;33m\u001b[0m\u001b[1;33m\u001b[0m\u001b[0m\n",
      "\u001b[1;31mKeyboardInterrupt\u001b[0m: "
     ]
    }
   ],
   "source": [
    "callbacks = [\n",
    "    tf.keras.callbacks.TensorBoard(log_dir='./logs'),\n",
    "    tf.keras.callbacks.ModelCheckpoint(\n",
    "        filepath=checkpoint_prefix,\n",
    "        save_weights_only=True,\n",
    "        monitor=\"val_loss\"\n",
    "    ),\n",
    "]\n",
    "\n",
    "model.fit(\n",
    "    train_dist_dataset, \n",
    "    epochs=1000,\n",
    "    callbacks=callbacks, \n",
    "    steps_per_epoch=30000, \n",
    "    validation_data=val_dist_dataset,\n",
    "    validation_steps=10000\n",
    ")"
   ]
  },
  {
   "cell_type": "code",
   "execution_count": null,
   "metadata": {},
   "outputs": [],
   "source": []
  }
 ],
 "metadata": {
  "kernelspec": {
   "display_name": "Python [conda env:tf_env]",
   "language": "python",
   "name": "conda-env-tf_env-py"
  }
 },
 "nbformat": 4,
 "nbformat_minor": 4
}
